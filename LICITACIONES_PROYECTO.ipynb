{
 "cells": [
  {
   "cell_type": "markdown",
   "id": "dd1a88d3",
   "metadata": {},
   "source": [
    "### PENDIENTE:\n",
    "\n",
    "### -> 2. Filtro avanzado fechas\n",
    "### -> 5. Notificación con datos: hospital, nombre concurso, fecha límite"
   ]
  },
  {
   "cell_type": "markdown",
   "id": "5103598c",
   "metadata": {},
   "source": [
    "#### CASO DIARIO - 1 entidad especifica:\n",
    "\n",
    "1. filtros básicos:\n",
    "- nombre entidad\n",
    "- tipo: servicio\n",
    "- año\n",
    "\n",
    "2. filtros avanzados:\n",
    "- fecha inicio: fecha actual\n",
    "- fecha fin: fecha actual\n",
    "\n",
    "3. colocar captcha para ejecutar busqueda (resultados obtenidos)\n",
    "\n",
    "4. bucle:\n",
    "- obtener lista concursos\n",
    "- guardar info y archivos\n",
    "    \n",
    "5. llega notificación con datos: hospital, nombre concurso, fecha límite"
   ]
  },
  {
   "cell_type": "code",
   "execution_count": 1,
   "id": "a9db3158",
   "metadata": {},
   "outputs": [],
   "source": [
    "from selenium import webdriver\n",
    "from selenium.webdriver.chrome.options import Options\n",
    "from selenium.webdriver.support.wait import WebDriverWait\n",
    "import time\n",
    "from selenium.webdriver.support import expected_conditions as EC\n",
    "from selenium.webdriver.common.by import By\n",
    "from selenium.webdriver.common.keys import Keys\n",
    "from selenium.webdriver.common.action_chains import ActionChains"
   ]
  },
  {
   "cell_type": "code",
   "execution_count": 2,
   "id": "8362dabc",
   "metadata": {},
   "outputs": [],
   "source": [
    "ruc_prueba = \"20153219118\""
   ]
  },
  {
   "cell_type": "code",
   "execution_count": 3,
   "id": "99998047",
   "metadata": {},
   "outputs": [],
   "source": [
    "driver = webdriver.Chrome()\n",
    "driver.maximize_window()\n",
    "driver.get(\"https://prod2.seace.gob.pe/seacebus-uiwd-pub/buscadorPublico/buscadorPublico.xhtml\")\n",
    "wait = WebDriverWait(driver, 20)\n",
    "time.sleep(5)"
   ]
  },
  {
   "cell_type": "markdown",
   "id": "881b4747",
   "metadata": {},
   "source": [
    "### 1. FILTRO BÁSICO"
   ]
  },
  {
   "cell_type": "markdown",
   "id": "e740b8a1",
   "metadata": {},
   "source": [
    "#### 1.1. NOMBRE O SIGLA DE ENTIDAD"
   ]
  },
  {
   "cell_type": "code",
   "execution_count": 4,
   "id": "51c9b9ae",
   "metadata": {},
   "outputs": [
    {
     "name": "stdout",
     "output_type": "stream",
     "text": [
      "LISTO NOMBRE O SIGLA DE ENTIDAD\n"
     ]
    }
   ],
   "source": [
    "#clic lupa\n",
    "lupa_buscar_entidad = wait.until(EC.presence_of_element_located((By.ID, \"tbBuscador:idFormBuscarProceso:j_idt28\"))).click()\n",
    "time.sleep(1)\n",
    "#insertar ruc entidad\n",
    "elemento_input = driver.find_element(By.CSS_SELECTOR,'[id=\"tbBuscador:idFormBuscarProceso:txtRucEntidad\"][name=\"tbBuscador:idFormBuscarProceso:txtRucEntidad\"]').click()\n",
    "ActionChains(driver).send_keys_to_element(elemento_input, ruc_prueba).perform()\n",
    "#buscar ruc entidad\n",
    "btn_buscar = driver.find_element(By.ID, \"tbBuscador:idFormBuscarProceso:btnBuscarEntidad\").click()\n",
    "time.sleep(1)\n",
    "#capturar nombre entidad\n",
    "nombre_entidad = driver.find_element(By.ID, \"tbBuscador:idFormBuscarProceso:dataTable:0:ajaxEntidad\").text\n",
    "#confirmar entidad\n",
    "op_confirmar = driver.find_element(By.ID, \"tbBuscador:idFormBuscarProceso:dataTable:0:j_idt271\").click()  \n",
    "#confirmación visual\n",
    "print(\"LISTO NOMBRE O SIGLA DE ENTIDAD\")"
   ]
  },
  {
   "cell_type": "markdown",
   "id": "726a8325",
   "metadata": {},
   "source": [
    "#### 1.2. OBJETO DE CONTRATACIÓN"
   ]
  },
  {
   "cell_type": "code",
   "execution_count": 5,
   "id": "e513ec92",
   "metadata": {},
   "outputs": [
    {
     "name": "stdout",
     "output_type": "stream",
     "text": [
      "LISTO OBJETO DE CONTRATACIÓN\n"
     ]
    }
   ],
   "source": [
    "#clic contratacion\n",
    "desp_contratacion = wait.until(EC.presence_of_element_located((By.ID, 'tbBuscador:idFormBuscarProceso:j_idt41_label'))).click()\n",
    "time.sleep(1)\n",
    "#clic tipo: servicio\n",
    "elemento_servicio = driver.find_element(By.CSS_SELECTOR, 'li[data-label=\"Servicio\"]').click()\n",
    "#confirmación visual\n",
    "print(\"LISTO OBJETO DE CONTRATACIÓN\")"
   ]
  },
  {
   "cell_type": "markdown",
   "id": "17183965",
   "metadata": {},
   "source": [
    "#### 1.3. AÑO DE LA CONVOCATORIA"
   ]
  },
  {
   "cell_type": "code",
   "execution_count": 6,
   "id": "7e62d1d3",
   "metadata": {},
   "outputs": [
    {
     "name": "stdout",
     "output_type": "stream",
     "text": [
      "LISTO OBJETO DE CONTRATACIÓN\n"
     ]
    }
   ],
   "source": [
    "#clic desplegable\n",
    "desp_convocatoria = wait.until(EC.presence_of_element_located((By.ID, \"tbBuscador:idFormBuscarProceso:anioConvocatoria_label\"))).click()\n",
    "time.sleep(1)\n",
    "#clic año 2023\n",
    "elemento_2023 = driver.find_element(By.CSS_SELECTOR, 'li[data-label=\"2023\"]').click()\n",
    "#confirmación visual\n",
    "print(\"LISTO OBJETO DE CONTRATACIÓN\")"
   ]
  },
  {
   "cell_type": "markdown",
   "id": "e8d62ddb",
   "metadata": {},
   "source": [
    "### 2. FILTRO AVANZADO"
   ]
  },
  {
   "cell_type": "markdown",
   "id": "ef65dbee",
   "metadata": {},
   "source": [
    "- clic opciones avanzadas\n",
    "- fecha inicio: fecha actual\n",
    "- fecha fin: fecha actual\n",
    "\n",
    "-> inicio octubre\n",
    "\n",
    "-> fin diciembre"
   ]
  },
  {
   "cell_type": "markdown",
   "id": "7d5b7eeb",
   "metadata": {},
   "source": [
    "### 3. COLOCAR CAPTCHA PARA EJECUTAR BÚSQUEDA"
   ]
  },
  {
   "cell_type": "markdown",
   "id": "9159d1c1",
   "metadata": {},
   "source": [
    "#### 3.1. FUNCIONES"
   ]
  },
  {
   "cell_type": "code",
   "execution_count": 7,
   "id": "2f3282cc",
   "metadata": {},
   "outputs": [],
   "source": [
    "from datetime import datetime"
   ]
  },
  {
   "cell_type": "code",
   "execution_count": 8,
   "id": "66b56c67",
   "metadata": {},
   "outputs": [],
   "source": [
    "def fn_get_imagen():\n",
    "    imagen = driver.find_element(By.CSS_SELECTOR, 'img[id=\"tbBuscador:idFormBuscarProceso:captchaImg\"]')\n",
    "    x, y, width, height = imagen.location['x'], imagen.location['y'], imagen.size['width'], imagen.size['height']\n",
    "    imagen_pil = Image.open(io.BytesIO(driver.get_screenshot_as_png()))\n",
    "    imagen_recortada = imagen_pil.crop((x, y, x + width, y + height))\n",
    "    #nombre = \"captcha\" + datetime.now().strftime(\"%d_%m_%Y-%H_%M_%S\") + \".png\"\n",
    "    #imagen_recortada.save(nombre)    \n",
    "    time.sleep(2)\n",
    "    return imagen_recortada"
   ]
  },
  {
   "cell_type": "code",
   "execution_count": 9,
   "id": "80435ad9",
   "metadata": {},
   "outputs": [],
   "source": [
    "def fn_lectura_ocr(image):\n",
    "    grayscale_image = image.convert('L')\n",
    "    threshold = 50  \n",
    "    binary_image = grayscale_image.point(lambda p: p < threshold and 255)\n",
    "    text = pytesseract.image_to_string(binary_image)\n",
    "    text = text.lower()\n",
    "    text = text.replace('\\n', '')\n",
    "    text = text.replace(\"'\",'')\n",
    "    text = text.replace(\" \",\"\")\n",
    "    return text"
   ]
  },
  {
   "cell_type": "code",
   "execution_count": 10,
   "id": "51da695d",
   "metadata": {},
   "outputs": [],
   "source": [
    "#devuelve un valor no vacío\n",
    "def fn_evaluacion(i):\n",
    "    imagen_recortada = fn_get_imagen()\n",
    "    time.sleep(2)\n",
    "    \n",
    "    lectura_ocr = fn_lectura_ocr(imagen_recortada)\n",
    "    time.sleep(2)\n",
    "    print(\"-------------------------------\")\n",
    "    print(\"Lectura_ocr_\",i+1,\": \",lectura_ocr)\n",
    "    time.sleep(2)\n",
    "    \n",
    "    while len(lectura_ocr) != 5:\n",
    "        \n",
    "        print (\"Lectura incorrecta, nuevo intento...\")\n",
    "        \n",
    "        i = i + 1\n",
    "        elemento_captcha = driver.find_element(By.CSS_SELECTOR,'button[id=\"tbBuscador:idFormBuscarProceso:btnrefreshcaptcha\"][name=\"tbBuscador:idFormBuscarProceso:btnrefreshcaptcha\"]').click()\n",
    "        time.sleep(2)\n",
    "        \n",
    "        imagen_recortada = fn_get_imagen()\n",
    "        time.sleep(2)\n",
    "\n",
    "        lectura_ocr = fn_lectura_ocr(imagen_recortada)\n",
    "        time.sleep(2)\n",
    "        \n",
    "        print(\"-------------------------------\")\n",
    "        print(\"Lectura_ocr_\",i+1,\": \",lectura_ocr)\n",
    "        time.sleep(2)\n",
    "        \n",
    "    return lectura_ocr,i"
   ]
  },
  {
   "cell_type": "markdown",
   "id": "23c2035c",
   "metadata": {},
   "source": [
    "#### 3.2. AGREGAR LIB OCR"
   ]
  },
  {
   "cell_type": "code",
   "execution_count": 11,
   "id": "0f8d0031",
   "metadata": {},
   "outputs": [],
   "source": [
    "from PIL import Image\n",
    "import io"
   ]
  },
  {
   "cell_type": "code",
   "execution_count": 12,
   "id": "eb136033",
   "metadata": {},
   "outputs": [],
   "source": [
    "#pip install pytesseract\n",
    "import os\n",
    "# Ruta al directorio tessdata\n",
    "tessdata_dir = \"C:\\\\Program Files\\\\Tesseract-OCR\\\\tessdata\"\n",
    "# Configurar la variable de entorno TESSDATA_PREFIX\n",
    "os.environ[\"TESSDATA_PREFIX\"] = tessdata_dir"
   ]
  },
  {
   "cell_type": "code",
   "execution_count": 13,
   "id": "cc7c4d7f",
   "metadata": {},
   "outputs": [],
   "source": [
    "import pytesseract\n",
    "pytesseract.pytesseract.tesseract_cmd = r'C:\\Program Files\\Tesseract-OCR\\tesseract.exe'"
   ]
  },
  {
   "cell_type": "markdown",
   "id": "d624d3d3",
   "metadata": {},
   "source": [
    "#### 3.3. AGREGAR CAPTCHA Y BUSCAR"
   ]
  },
  {
   "cell_type": "code",
   "execution_count": 14,
   "id": "08390f36",
   "metadata": {},
   "outputs": [],
   "source": [
    "from selenium.common.exceptions import NoSuchElementException"
   ]
  },
  {
   "cell_type": "code",
   "execution_count": 15,
   "id": "33318a53",
   "metadata": {},
   "outputs": [
    {
     "name": "stdout",
     "output_type": "stream",
     "text": [
      "-------------------------------\n",
      "Lectura_ocr_ 1 :  r2h7p\n",
      "ubicar campo para captcha...\n",
      "buscando info...\n",
      "BÚSQUEDA EJECUTADA CORRECTAMENTE\n"
     ]
    }
   ],
   "source": [
    "#ver si hubo error\n",
    "i=0\n",
    "elemento = 'x'\n",
    "\n",
    "while elemento:\n",
    "    rpta,i = fn_evaluacion(i)\n",
    "    time.sleep(2)\n",
    "    \n",
    "    print(\"ubicar campo para captcha...\")\n",
    "    input_captcha = driver.find_element(By.CSS_SELECTOR,'[id=\"tbBuscador:idFormBuscarProceso:codigoCaptcha\"][name=\"tbBuscador:idFormBuscarProceso:codigoCaptcha\"][type=\"text\"]').click()\n",
    "    ActionChains(driver).send_keys(rpta).perform()\n",
    "    time.sleep(2)\n",
    "    \n",
    "    print(\"buscando info...\")\n",
    "    elemento_buscar = driver.find_element(By.CSS_SELECTOR,'[id=\"tbBuscador:idFormBuscarProceso:btnBuscarSel\"][name=\"tbBuscador:idFormBuscarProceso:btnBuscarSel\"]').click()\n",
    "    time.sleep(1)\n",
    "    \n",
    "    try:\n",
    "        elemento = driver.find_element(By.CSS_SELECTOR, '[class=\"ui-growl-message\"]')\n",
    "    except NoSuchElementException:\n",
    "        print(\"BÚSQUEDA EJECUTADA CORRECTAMENTE\")\n",
    "        break\n",
    "    print(\"Lectura incorrecta, nuevo intento...\")\n",
    "    i = i + 1\n",
    "    time.sleep(1)\n"
   ]
  },
  {
   "cell_type": "markdown",
   "id": "805212c2",
   "metadata": {},
   "source": [
    "### 4. BUCLE"
   ]
  },
  {
   "cell_type": "markdown",
   "id": "b6b6ff3d",
   "metadata": {},
   "source": [
    "#### 4.1. OBTENER LISTA CONCURSOS"
   ]
  },
  {
   "cell_type": "code",
   "execution_count": 16,
   "id": "6b27e382",
   "metadata": {},
   "outputs": [],
   "source": [
    "tabla = driver.find_element(By.CSS_SELECTOR,'[id=\"tbBuscador:idFormBuscarProceso:dtProcesos_data\"]')\n",
    "filas = tabla.find_elements(By.TAG_NAME, 'tr')\n",
    "# Itera en filas\n",
    "concursos = []\n",
    "for fila in filas:\n",
    "    concurso = {\n",
    "        'num': None,\n",
    "        'fecha_pub': None,\n",
    "        'nomenclatura': None,\n",
    "        'descripcion': None\n",
    "    }\n",
    "    celdas = fila.find_elements(By.TAG_NAME, 'td')\n",
    "    # Iterar en celdas\n",
    "    i = 0\n",
    "    for celda in celdas:\n",
    "        if i == 0:\n",
    "            num = celda.text\n",
    "        if i == 1:\n",
    "            hosp = celda.text\n",
    "        if i == 2:\n",
    "            fecha_hora = celda.text\n",
    "        if i == 3:\n",
    "            nomenclatura = celda.text\n",
    "        if i == 6:\n",
    "            descripcion = celda.text\n",
    "            #criterio palabra especialización\n",
    "            if \"especializ\" in descripcion.lower():\n",
    "                concurso['num'] = num\n",
    "                concurso['hospital'] = hosp\n",
    "                concurso['fecha_pub'] = fecha_hora\n",
    "                concurso['nomenclatura'] = nomenclatura\n",
    "                concurso['descripcion'] = descripcion\n",
    "                concursos.append(concurso)\n",
    "        i=i+1"
   ]
  },
  {
   "cell_type": "markdown",
   "id": "a895f46a",
   "metadata": {},
   "source": [
    "#### 4.2. GUARDAR INFO Y ARCHIVOS"
   ]
  },
  {
   "cell_type": "code",
   "execution_count": 17,
   "id": "c5c3d4f0",
   "metadata": {},
   "outputs": [],
   "source": [
    "import shutil"
   ]
  },
  {
   "cell_type": "code",
   "execution_count": 18,
   "id": "2fe3f9da",
   "metadata": {},
   "outputs": [],
   "source": [
    "ruta_descargas = r'C:\\Users\\Bianca\\Downloads'\n",
    "ruta_destino = r'D:\\programitas\\proyecto_licitaciones'"
   ]
  },
  {
   "cell_type": "code",
   "execution_count": 19,
   "id": "30fec9d0",
   "metadata": {},
   "outputs": [
    {
     "name": "stdout",
     "output_type": "stream",
     "text": [
      "----------------------------------------------------\n",
      "1\n",
      "AS-SM-87-2023-HNHU-1\n",
      "carpeta creada\n",
      "accediendo al concurso...\n",
      "     dato fecha_lim_registro agregado\n",
      "Se ha creado el archivo\n",
      "Archivos: \n",
      "     Resumen ejecutivo\n",
      "        descargando...\n",
      "        archivo movido\n",
      "     Bases Administrativas\n",
      "        descargando...\n",
      "        archivo movido\n",
      "     Pliego de absolución de consultas y observaciones\n",
      "        descargando...\n",
      "        archivo movido\n",
      "     Bases Integradas\n",
      "        descargando...\n",
      "        archivo movido\n",
      "----------------------------------------------------\n",
      "5\n",
      "DIRECTA-PROC-16-2023-HNHU-1\n",
      "carpeta creada\n",
      "accediendo al concurso...\n",
      "     dato fecha_lim_registro agregado\n",
      "Se ha creado el archivo\n",
      "Archivos: \n",
      "     Bases Administrativas\n",
      "        descargando...\n",
      "        archivo movido\n",
      "     Resumen ejecutivo\n",
      "        descargando...\n",
      "        archivo movido\n",
      "     Documentos de Presentación de Propuestas\n",
      "        descargando...\n",
      "        archivo movido\n",
      "     Documentos de Otorgamiento de Buena Pro\n",
      "        descargando...\n",
      "        archivo movido\n",
      "----------------------------------------------------\n",
      "10\n",
      "AS-SM-78-2023-HNHU-1\n",
      "carpeta creada\n",
      "accediendo al concurso...\n",
      "     dato fecha_lim_registro agregado\n",
      "Se ha creado el archivo\n",
      "Archivos: \n",
      "     Bases Administrativas\n",
      "        descargando...\n",
      "        archivo movido\n",
      "     Resumen ejecutivo\n",
      "        descargando...\n",
      "        archivo movido\n",
      "     Pliego de absolución de consultas y observaciones\n",
      "        descargando...\n",
      "        archivo movido\n",
      "     Bases Integradas\n",
      "        descargando...\n",
      "        archivo movido\n",
      "     Documentos de Presentación de Propuestas\n",
      "        descargando...\n",
      "        archivo movido\n",
      "     Documentos de Calificación y Evaluación\n",
      "        descargando...\n",
      "        archivo movido\n",
      "     Documentos de Otorgamiento de Buena Pro\n",
      "        descargando...\n",
      "        archivo movido\n",
      "FIN\n"
     ]
    }
   ],
   "source": [
    "for concurso in concursos:\n",
    "    print(\"----------------------------------------------------\")\n",
    "    print(concurso['num'])\n",
    "    print(concurso['nomenclatura'])\n",
    "    nombre_carpeta = concurso['nomenclatura']\n",
    "    ruta_carpeta = os.path.join(ruta_destino, nombre_carpeta)\n",
    "    os.makedirs(ruta_carpeta, exist_ok=True)\n",
    "    print(\"carpeta creada\")\n",
    "    \n",
    "    #clic icono para ver detalles\n",
    "    pos = int(concurso['num']) - 1\n",
    "    id_img = 'tbBuscador:idFormBuscarProceso:dtProcesos:'+ str(pos) +':grafichaSel'\n",
    "    img_concurso = wait.until(EC.presence_of_element_located((By.CSS_SELECTOR, '[id=\"'+id_img+'\"]'))).click()\n",
    "    print(\"accediendo al concurso...\")\n",
    "    \n",
    "    #extración fecha límite\n",
    "    tb_cron = wait.until(EC.presence_of_element_located((By.CSS_SELECTOR, '[id=\"tbFicha:dtCronograma_data\"]')))\n",
    "    tr_cron = tb_cron.find_elements(By.TAG_NAME, 'tr')\n",
    "    i = 0\n",
    "    for fila_cron in tr_cron:\n",
    "        celdas_cron = fila_cron.find_elements(By.TAG_NAME, 'td')\n",
    "        if i == 1:\n",
    "            j = 0\n",
    "            for celda_cron in celdas_cron:\n",
    "                if j == 2:\n",
    "                    concurso['fecha_lim_registro'] = celda_cron.text\n",
    "                    print(\"     dato fecha_lim_registro agregado\")\n",
    "                    break\n",
    "                j = j+ 1\n",
    "        i = i + 1\n",
    "    \n",
    "    #Crear archivo detalles\n",
    "    nombre_archivo = ruta_carpeta+\"\\detalles_\"+nomenclatura+\".txt\"\n",
    "    with open(nombre_archivo, 'w') as archivo:\n",
    "        archivo.write(\"Hopital: \"+concurso['hospital']+\"\\n\"\n",
    "                      +\"Nomenclatura: \"+concurso['nomenclatura']+\"\\n\"\n",
    "                      +\"Fecha de publicación: \"+concurso['fecha_pub']+\"\\n\"\n",
    "                      +\"Descripción: \"+concurso['descripcion']+\"\\n\"\n",
    "                      +\"Fecha límite de registro: \"+concurso['fecha_lim_registro'])\n",
    "    print(\"Se ha creado el archivo\")\n",
    "    \n",
    "    #extensión de cantidad elementos en lista\n",
    "    tb_docs = driver.find_element(By.CSS_SELECTOR,'[id=\"tbFicha:j_idt359\"]')\n",
    "    rangos = tb_docs.find_element(By.CLASS_NAME,\"ui-paginator-current\").text\n",
    "    last_pag = int(rangos[-1])\n",
    "    if last_pag != 1:\n",
    "        bloq_pags = driver.find_element(By.CSS_SELECTOR,'[id=\"tbFicha:dtDocumentos_paginator_bottom\"]')\n",
    "        op_list_cant = bloq_pags.find_element(By.CSS_SELECTOR,'[value=\"15\"]').click()\n",
    "        time.sleep(3)\n",
    "    \n",
    "    #descarga de archivos\n",
    "    t_body = driver.find_element(By.CSS_SELECTOR,'[id=\"tbFicha:dtDocumentos_data\"]')\n",
    "    tr_docs = t_body.find_elements(By.TAG_NAME, 'tr')\n",
    "    i = 0\n",
    "    print(\"Archivos: \")\n",
    "    for fila_docs in tr_docs:\n",
    "        celdas_docs = fila_docs.find_elements(By.TAG_NAME, 'td')\n",
    "        j = 0\n",
    "        for celda_docs in celdas_docs:\n",
    "            if j == 2: \n",
    "                print(\"     \" + celda_docs.text)\n",
    "            if j == 3:\n",
    "                identif = \"tbFicha:dtDocumentos:\"+str(i)+\":j_idt381\"\n",
    "                a_docs = driver.find_element(By.CSS_SELECTOR,'[id=\"'+identif+'\"]').click()\n",
    "                print(\"        descargando...\")\n",
    "                time.sleep(3)\n",
    "                \n",
    "                archivo_descargado = 'crdownload'\n",
    "                while archivo_descargado[-10:] == 'crdownload':\n",
    "                    archivo_descargado = max([os.path.join(ruta_descargas, f) for f in os.listdir(ruta_descargas)], key=os.path.getctime)\n",
    "                    time.sleep(2)\n",
    "                shutil.move(archivo_descargado, ruta_carpeta)\n",
    "                print(\"        archivo movido\")\n",
    "            j = j+ 1\n",
    "        i = i + 1\n",
    "    btn_regresar = driver.find_element(By.CSS_SELECTOR,'[id=\"tbFicha:j_idt21\"]').click()\n",
    "    time.sleep(2)\n",
    "    \n",
    "print(\"FIN\")"
   ]
  },
  {
   "cell_type": "code",
   "execution_count": null,
   "id": "7420c75e",
   "metadata": {},
   "outputs": [],
   "source": []
  }
 ],
 "metadata": {
  "kernelspec": {
   "display_name": "Python 3 (ipykernel)",
   "language": "python",
   "name": "python3"
  },
  "language_info": {
   "codemirror_mode": {
    "name": "ipython",
    "version": 3
   },
   "file_extension": ".py",
   "mimetype": "text/x-python",
   "name": "python",
   "nbconvert_exporter": "python",
   "pygments_lexer": "ipython3",
   "version": "3.10.9"
  }
 },
 "nbformat": 4,
 "nbformat_minor": 5
}
