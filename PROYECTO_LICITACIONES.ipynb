{
 "cells": [
  {
   "cell_type": "code",
   "execution_count": 1,
   "id": "a9db3158",
   "metadata": {},
   "outputs": [],
   "source": [
    "from selenium import webdriver\n",
    "from selenium.webdriver.support.wait import WebDriverWait\n",
    "import time\n",
    "from selenium.webdriver.support import expected_conditions as EC\n",
    "from selenium.webdriver.common.by import By\n",
    "from selenium.webdriver.common.keys import Keys\n",
    "from selenium.webdriver.common.action_chains import ActionChains"
   ]
  },
  {
   "cell_type": "code",
   "execution_count": 2,
   "id": "8362dabc",
   "metadata": {},
   "outputs": [],
   "source": [
    "ruc_prueba = \"20153219118\""
   ]
  },
  {
   "cell_type": "code",
   "execution_count": 3,
   "id": "99998047",
   "metadata": {},
   "outputs": [],
   "source": [
    "driver = webdriver.Chrome()\n",
    "driver.maximize_window()\n",
    "driver.get(\"https://prod2.seace.gob.pe/seacebus-uiwd-pub/buscadorPublico/buscadorPublico.xhtml\")\n",
    "wait = WebDriverWait(driver, 20)\n",
    "time.sleep(5)"
   ]
  },
  {
   "cell_type": "markdown",
   "id": "e740b8a1",
   "metadata": {},
   "source": [
    "#### NOMBRE O SIGLA DE ENTIDAD"
   ]
  },
  {
   "cell_type": "code",
   "execution_count": 4,
   "id": "51c9b9ae",
   "metadata": {},
   "outputs": [],
   "source": [
    "lupa_buscar_entidad = wait.until(EC.presence_of_element_located((By.ID, \"tbBuscador:idFormBuscarProceso:j_idt28\"))).click()\n",
    "time.sleep(1)"
   ]
  },
  {
   "cell_type": "code",
   "execution_count": 5,
   "id": "61d6bc8f",
   "metadata": {},
   "outputs": [],
   "source": [
    "elemento_input = driver.find_element(By.CSS_SELECTOR,'[id=\"tbBuscador:idFormBuscarProceso:txtRucEntidad\"][name=\"tbBuscador:idFormBuscarProceso:txtRucEntidad\"]').click()\n",
    "ActionChains(driver).send_keys_to_element(elemento_input, ruc_prueba).perform()"
   ]
  },
  {
   "cell_type": "code",
   "execution_count": 6,
   "id": "1e41f083",
   "metadata": {},
   "outputs": [],
   "source": [
    "btn_buscar = driver.find_element(By.ID, \"tbBuscador:idFormBuscarProceso:btnBuscarEntidad\").click()\n",
    "time.sleep(1)"
   ]
  },
  {
   "cell_type": "code",
   "execution_count": 7,
   "id": "f8054743",
   "metadata": {},
   "outputs": [],
   "source": [
    "op_confirmar = driver.find_element(By.ID, \"tbBuscador:idFormBuscarProceso:dataTable:0:ajaxEntidad\").click()          "
   ]
  },
  {
   "cell_type": "code",
   "execution_count": 8,
   "id": "aed006f3",
   "metadata": {},
   "outputs": [
    {
     "name": "stdout",
     "output_type": "stream",
     "text": [
      "LISTO NOMBRE O SIGLA DE ENTIDAD\n"
     ]
    }
   ],
   "source": [
    "print(\"LISTO NOMBRE O SIGLA DE ENTIDAD\")"
   ]
  },
  {
   "cell_type": "markdown",
   "id": "726a8325",
   "metadata": {},
   "source": [
    "#### OBJETO DE CONTRATACIÓN"
   ]
  },
  {
   "cell_type": "code",
   "execution_count": 9,
   "id": "ef0ef6e9",
   "metadata": {},
   "outputs": [],
   "source": [
    "desp_contratacion = wait.until(EC.presence_of_element_located((By.ID, 'tbBuscador:idFormBuscarProceso:j_idt41_label'))).click()\n",
    "time.sleep(1)"
   ]
  },
  {
   "cell_type": "code",
   "execution_count": 10,
   "id": "48f0a732",
   "metadata": {},
   "outputs": [],
   "source": [
    "elemento_servicio = driver.find_element(By.CSS_SELECTOR, 'li[data-label=\"Servicio\"]').click()"
   ]
  },
  {
   "cell_type": "code",
   "execution_count": 11,
   "id": "6043f6dc",
   "metadata": {},
   "outputs": [
    {
     "name": "stdout",
     "output_type": "stream",
     "text": [
      "LISTO OBJETO DE CONTRATACIÓN\n"
     ]
    }
   ],
   "source": [
    "print(\"LISTO OBJETO DE CONTRATACIÓN\")"
   ]
  },
  {
   "cell_type": "markdown",
   "id": "17183965",
   "metadata": {},
   "source": [
    "#### AÑO DE LA CONVOCATORIA"
   ]
  },
  {
   "cell_type": "code",
   "execution_count": 12,
   "id": "30fcd6c0",
   "metadata": {},
   "outputs": [],
   "source": [
    "desp_convocatoria = wait.until(EC.presence_of_element_located((By.ID, \"tbBuscador:idFormBuscarProceso:anioConvocatoria_label\"))).click()\n",
    "time.sleep(1)"
   ]
  },
  {
   "cell_type": "code",
   "execution_count": 13,
   "id": "e91055a9",
   "metadata": {},
   "outputs": [],
   "source": [
    "elemento_2023 = driver.find_element(By.CSS_SELECTOR, 'li[data-label=\"2023\"]').click()"
   ]
  },
  {
   "cell_type": "code",
   "execution_count": 14,
   "id": "2fe40491",
   "metadata": {},
   "outputs": [
    {
     "name": "stdout",
     "output_type": "stream",
     "text": [
      "LISTO OBJETO DE CONTRATACIÓN\n"
     ]
    }
   ],
   "source": [
    "print(\"LISTO OBJETO DE CONTRATACIÓN\")"
   ]
  },
  {
   "cell_type": "markdown",
   "id": "7a869450",
   "metadata": {},
   "source": [
    "#### CÓDIGO CAPTCHA"
   ]
  },
  {
   "cell_type": "code",
   "execution_count": 15,
   "id": "2f3282cc",
   "metadata": {},
   "outputs": [],
   "source": [
    "from datetime import datetime"
   ]
  },
  {
   "cell_type": "code",
   "execution_count": 16,
   "id": "66b56c67",
   "metadata": {},
   "outputs": [],
   "source": [
    "def fn_get_imagen():\n",
    "    imagen = driver.find_element(By.CSS_SELECTOR, 'img[id=\"tbBuscador:idFormBuscarProceso:captchaImg\"]')\n",
    "    x, y, width, height = imagen.location['x'], imagen.location['y'], imagen.size['width'], imagen.size['height']\n",
    "    imagen_pil = Image.open(io.BytesIO(driver.get_screenshot_as_png()))\n",
    "    imagen_recortada = imagen_pil.crop((x, y, x + width, y + height))\n",
    "    nombre = \"captcha\" + datetime.now().strftime(\"%d_%m_%Y-%H_%M_%S\") + \".png\"\n",
    "    imagen_recortada.save(nombre)    \n",
    "    time.sleep(2)\n",
    "    return imagen_recortada"
   ]
  },
  {
   "cell_type": "code",
   "execution_count": 17,
   "id": "80435ad9",
   "metadata": {},
   "outputs": [],
   "source": [
    "def fn_lectura_ocr(image):\n",
    "    grayscale_image = image.convert('L')\n",
    "    threshold = 50  \n",
    "    binary_image = grayscale_image.point(lambda p: p < threshold and 255)\n",
    "    text = pytesseract.image_to_string(binary_image)\n",
    "    text = text.lower()\n",
    "    text = text.replace('\\n', '')\n",
    "    text = text.replace(\"'\",'')\n",
    "    text = text.replace(\" \",\"\")\n",
    "    return text"
   ]
  },
  {
   "cell_type": "code",
   "execution_count": 18,
   "id": "51da695d",
   "metadata": {},
   "outputs": [],
   "source": [
    "#devuelve un valor no vacío\n",
    "def fn_evaluacion(i):\n",
    "    \n",
    "    imagen_recortada = fn_get_imagen()\n",
    "    time.sleep(2)\n",
    "    \n",
    "    lectura_ocr = fn_lectura_ocr(imagen_recortada)\n",
    "    time.sleep(2)\n",
    "    print(\"-------------------------------\")\n",
    "    print(\"Lectura_ocr_\",i,\": \",lectura_ocr)\n",
    "    time.sleep(2)\n",
    "    \n",
    "    while len(lectura_ocr) != 5:\n",
    "        \n",
    "        print (\"Lectura incorrecta, nuevo intento...\")\n",
    "        i = i + 1\n",
    "        \n",
    "        elemento_captcha = driver.find_element(By.CSS_SELECTOR,'button[id=\"tbBuscador:idFormBuscarProceso:btnrefreshcaptcha\"][name=\"tbBuscador:idFormBuscarProceso:btnrefreshcaptcha\"]').click()\n",
    "        time.sleep(2)\n",
    "        \n",
    "        imagen_recortada = fn_get_imagen()\n",
    "        time.sleep(2)\n",
    "\n",
    "        lectura_ocr = fn_lectura_ocr(imagen_recortada)\n",
    "        time.sleep(2)\n",
    "        \n",
    "        print(\"-------------------------------\")\n",
    "        print(\"Lectura_ocr_\",i,\": \",lectura_ocr)\n",
    "        time.sleep(2)\n",
    "        \n",
    "    return lectura_ocr,i"
   ]
  },
  {
   "cell_type": "code",
   "execution_count": 19,
   "id": "0f8d0031",
   "metadata": {},
   "outputs": [],
   "source": [
    "from PIL import Image\n",
    "import io"
   ]
  },
  {
   "cell_type": "code",
   "execution_count": 20,
   "id": "eb136033",
   "metadata": {},
   "outputs": [],
   "source": [
    "#pip install pytesseract\n",
    "import os\n",
    "\n",
    "# Ruta al directorio tessdata\n",
    "tessdata_dir = \"C:\\\\Program Files\\\\Tesseract-OCR\\\\tessdata\"\n",
    "\n",
    "# Configurar la variable de entorno TESSDATA_PREFIX\n",
    "os.environ[\"TESSDATA_PREFIX\"] = tessdata_dir"
   ]
  },
  {
   "cell_type": "code",
   "execution_count": 21,
   "id": "cc7c4d7f",
   "metadata": {},
   "outputs": [],
   "source": [
    "import pytesseract\n",
    "pytesseract.pytesseract.tesseract_cmd = r'C:\\Program Files\\Tesseract-OCR\\tesseract.exe'"
   ]
  },
  {
   "cell_type": "code",
   "execution_count": 22,
   "id": "08390f36",
   "metadata": {},
   "outputs": [],
   "source": [
    "from selenium.common.exceptions import NoSuchElementException"
   ]
  },
  {
   "cell_type": "code",
   "execution_count": 23,
   "id": "9bde8eed",
   "metadata": {},
   "outputs": [],
   "source": [
    "i=1"
   ]
  },
  {
   "cell_type": "code",
   "execution_count": 24,
   "id": "33318a53",
   "metadata": {},
   "outputs": [
    {
     "name": "stdout",
     "output_type": "stream",
     "text": [
      "-------------------------------\n",
      "Lectura_ocr_ 1 :  r766f\n",
      "ubicar campo para captcha...\n",
      "buscando info...\n",
      "BÚSQUEDA EJECUTADA CORRECTAMENTE\n"
     ]
    }
   ],
   "source": [
    "#ver si hubo error\n",
    "elemento = 'x'\n",
    "\n",
    "while elemento:\n",
    "    rpta,i = fn_evaluacion(i)\n",
    "    time.sleep(2)\n",
    "    \n",
    "    print(\"ubicar campo para captcha...\")\n",
    "    input_captcha = driver.find_element(By.CSS_SELECTOR,'[id=\"tbBuscador:idFormBuscarProceso:codigoCaptcha\"][name=\"tbBuscador:idFormBuscarProceso:codigoCaptcha\"][type=\"text\"]').click()\n",
    "    ActionChains(driver).send_keys(rpta).perform()\n",
    "    time.sleep(2)\n",
    "    \n",
    "    print(\"buscando info...\")\n",
    "    elemento_buscar = driver.find_element(By.CSS_SELECTOR,'[id=\"tbBuscador:idFormBuscarProceso:btnBuscarSel\"][name=\"tbBuscador:idFormBuscarProceso:btnBuscarSel\"]').click()\n",
    "    time.sleep(1)\n",
    "    \n",
    "    try:\n",
    "        elemento = driver.find_element(By.CSS_SELECTOR, '[class=\"ui-growl-message\"]')\n",
    "    except NoSuchElementException:\n",
    "        print(\"BÚSQUEDA EJECUTADA CORRECTAMENTE\")\n",
    "        break\n",
    "    print(\"Lectura incorrecta, nuevo intento...\")\n",
    "    time.sleep(1)\n"
   ]
  },
  {
   "cell_type": "code",
   "execution_count": null,
   "id": "61f99056",
   "metadata": {},
   "outputs": [],
   "source": [
    "CONTINUAR CON... recoleccion de resultados\n",
    "Me imagino que habrán criterios de los que le interesen, consultarlo a Cesar\n"
   ]
  },
  {
   "cell_type": "code",
   "execution_count": null,
   "id": "8e4baff7",
   "metadata": {},
   "outputs": [],
   "source": []
  }
 ],
 "metadata": {
  "kernelspec": {
   "display_name": "Python 3 (ipykernel)",
   "language": "python",
   "name": "python3"
  },
  "language_info": {
   "codemirror_mode": {
    "name": "ipython",
    "version": 3
   },
   "file_extension": ".py",
   "mimetype": "text/x-python",
   "name": "python",
   "nbconvert_exporter": "python",
   "pygments_lexer": "ipython3",
   "version": "3.10.9"
  }
 },
 "nbformat": 4,
 "nbformat_minor": 5
}
